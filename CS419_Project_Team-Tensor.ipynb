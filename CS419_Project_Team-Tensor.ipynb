{
  "nbformat": 4,
  "nbformat_minor": 0,
  "metadata": {
    "colab": {
      "name": "CS419_project_final",
      "provenance": [],
      "collapsed_sections": [],
      "include_colab_link": true
    },
    "kernelspec": {
      "name": "python3",
      "display_name": "Python 3"
    },
    "language_info": {
      "name": "python"
    },
    "accelerator": "GPU",
    "widgets": {
      "application/vnd.jupyter.widget-state+json": {
        "f18f7409d1d540ceba6efb772409c3cf": {
          "model_module": "@jupyter-widgets/controls",
          "model_name": "HBoxModel",
          "state": {
            "_view_name": "HBoxView",
            "_dom_classes": [],
            "_model_name": "HBoxModel",
            "_view_module": "@jupyter-widgets/controls",
            "_model_module_version": "1.5.0",
            "_view_count": null,
            "_view_module_version": "1.5.0",
            "box_style": "",
            "layout": "IPY_MODEL_10e7987240fa4c8396e3c6804404a81b",
            "_model_module": "@jupyter-widgets/controls",
            "children": [
              "IPY_MODEL_fbf0e10e6b014b8798a247e4a58261cf",
              "IPY_MODEL_415477702de345488f09e0b8cf0a6d73"
            ]
          }
        },
        "10e7987240fa4c8396e3c6804404a81b": {
          "model_module": "@jupyter-widgets/base",
          "model_name": "LayoutModel",
          "state": {
            "_view_name": "LayoutView",
            "grid_template_rows": null,
            "right": null,
            "justify_content": null,
            "_view_module": "@jupyter-widgets/base",
            "overflow": null,
            "_model_module_version": "1.2.0",
            "_view_count": null,
            "flex_flow": null,
            "width": null,
            "min_width": null,
            "border": null,
            "align_items": null,
            "bottom": null,
            "_model_module": "@jupyter-widgets/base",
            "top": null,
            "grid_column": null,
            "overflow_y": null,
            "overflow_x": null,
            "grid_auto_flow": null,
            "grid_area": null,
            "grid_template_columns": null,
            "flex": null,
            "_model_name": "LayoutModel",
            "justify_items": null,
            "grid_row": null,
            "max_height": null,
            "align_content": null,
            "visibility": null,
            "align_self": null,
            "height": null,
            "min_height": null,
            "padding": null,
            "grid_auto_rows": null,
            "grid_gap": null,
            "max_width": null,
            "order": null,
            "_view_module_version": "1.2.0",
            "grid_template_areas": null,
            "object_position": null,
            "object_fit": null,
            "grid_auto_columns": null,
            "margin": null,
            "display": null,
            "left": null
          }
        },
        "fbf0e10e6b014b8798a247e4a58261cf": {
          "model_module": "@jupyter-widgets/controls",
          "model_name": "FloatProgressModel",
          "state": {
            "_view_name": "ProgressView",
            "style": "IPY_MODEL_c6869b73436f4139808ed3df5e998f17",
            "_dom_classes": [],
            "description": "100%",
            "_model_name": "FloatProgressModel",
            "bar_style": "success",
            "max": 1000,
            "_view_module": "@jupyter-widgets/controls",
            "_model_module_version": "1.5.0",
            "value": 1000,
            "_view_count": null,
            "_view_module_version": "1.5.0",
            "orientation": "horizontal",
            "min": 0,
            "description_tooltip": null,
            "_model_module": "@jupyter-widgets/controls",
            "layout": "IPY_MODEL_d068e3849a17475bade5728ce4be80b9"
          }
        },
        "415477702de345488f09e0b8cf0a6d73": {
          "model_module": "@jupyter-widgets/controls",
          "model_name": "HTMLModel",
          "state": {
            "_view_name": "HTMLView",
            "style": "IPY_MODEL_1930b2606c764b47b78206e41809c951",
            "_dom_classes": [],
            "description": "",
            "_model_name": "HTMLModel",
            "placeholder": "​",
            "_view_module": "@jupyter-widgets/controls",
            "_model_module_version": "1.5.0",
            "value": " 1000/1000 [00:01&lt;00:00, 607.95it/s]",
            "_view_count": null,
            "_view_module_version": "1.5.0",
            "description_tooltip": null,
            "_model_module": "@jupyter-widgets/controls",
            "layout": "IPY_MODEL_e0a6a0cf05f9411ba3590b7eaedff95d"
          }
        },
        "c6869b73436f4139808ed3df5e998f17": {
          "model_module": "@jupyter-widgets/controls",
          "model_name": "ProgressStyleModel",
          "state": {
            "_view_name": "StyleView",
            "_model_name": "ProgressStyleModel",
            "description_width": "initial",
            "_view_module": "@jupyter-widgets/base",
            "_model_module_version": "1.5.0",
            "_view_count": null,
            "_view_module_version": "1.2.0",
            "bar_color": null,
            "_model_module": "@jupyter-widgets/controls"
          }
        },
        "d068e3849a17475bade5728ce4be80b9": {
          "model_module": "@jupyter-widgets/base",
          "model_name": "LayoutModel",
          "state": {
            "_view_name": "LayoutView",
            "grid_template_rows": null,
            "right": null,
            "justify_content": null,
            "_view_module": "@jupyter-widgets/base",
            "overflow": null,
            "_model_module_version": "1.2.0",
            "_view_count": null,
            "flex_flow": null,
            "width": null,
            "min_width": null,
            "border": null,
            "align_items": null,
            "bottom": null,
            "_model_module": "@jupyter-widgets/base",
            "top": null,
            "grid_column": null,
            "overflow_y": null,
            "overflow_x": null,
            "grid_auto_flow": null,
            "grid_area": null,
            "grid_template_columns": null,
            "flex": null,
            "_model_name": "LayoutModel",
            "justify_items": null,
            "grid_row": null,
            "max_height": null,
            "align_content": null,
            "visibility": null,
            "align_self": null,
            "height": null,
            "min_height": null,
            "padding": null,
            "grid_auto_rows": null,
            "grid_gap": null,
            "max_width": null,
            "order": null,
            "_view_module_version": "1.2.0",
            "grid_template_areas": null,
            "object_position": null,
            "object_fit": null,
            "grid_auto_columns": null,
            "margin": null,
            "display": null,
            "left": null
          }
        },
        "1930b2606c764b47b78206e41809c951": {
          "model_module": "@jupyter-widgets/controls",
          "model_name": "DescriptionStyleModel",
          "state": {
            "_view_name": "StyleView",
            "_model_name": "DescriptionStyleModel",
            "description_width": "",
            "_view_module": "@jupyter-widgets/base",
            "_model_module_version": "1.5.0",
            "_view_count": null,
            "_view_module_version": "1.2.0",
            "_model_module": "@jupyter-widgets/controls"
          }
        },
        "e0a6a0cf05f9411ba3590b7eaedff95d": {
          "model_module": "@jupyter-widgets/base",
          "model_name": "LayoutModel",
          "state": {
            "_view_name": "LayoutView",
            "grid_template_rows": null,
            "right": null,
            "justify_content": null,
            "_view_module": "@jupyter-widgets/base",
            "overflow": null,
            "_model_module_version": "1.2.0",
            "_view_count": null,
            "flex_flow": null,
            "width": null,
            "min_width": null,
            "border": null,
            "align_items": null,
            "bottom": null,
            "_model_module": "@jupyter-widgets/base",
            "top": null,
            "grid_column": null,
            "overflow_y": null,
            "overflow_x": null,
            "grid_auto_flow": null,
            "grid_area": null,
            "grid_template_columns": null,
            "flex": null,
            "_model_name": "LayoutModel",
            "justify_items": null,
            "grid_row": null,
            "max_height": null,
            "align_content": null,
            "visibility": null,
            "align_self": null,
            "height": null,
            "min_height": null,
            "padding": null,
            "grid_auto_rows": null,
            "grid_gap": null,
            "max_width": null,
            "order": null,
            "_view_module_version": "1.2.0",
            "grid_template_areas": null,
            "object_position": null,
            "object_fit": null,
            "grid_auto_columns": null,
            "margin": null,
            "display": null,
            "left": null
          }
        }
      }
    }
  },
  "cells": [
    {
      "cell_type": "markdown",
      "metadata": {
        "id": "view-in-github",
        "colab_type": "text"
      },
      "source": [
        "<a href=\"https://colab.research.google.com/github/Team-Tensor/Face-Recognition/blob/main/CS419_project_final.ipynb\" target=\"_parent\"><img src=\"https://colab.research.google.com/assets/colab-badge.svg\" alt=\"Open In Colab\"/></a>"
      ]
    },
    {
      "cell_type": "markdown",
      "metadata": {
        "id": "rwhefNh0uGdO"
      },
      "source": [
        "# **CS419 Project : Team Tensor**\n",
        "## **Comparison of Face Recognition models using Neural Networks and Principal Component Analysis**"
      ]
    },
    {
      "cell_type": "markdown",
      "metadata": {
        "id": "hY3h6EKWFi0D"
      },
      "source": [
        "# Imports"
      ]
    },
    {
      "cell_type": "code",
      "metadata": {
        "id": "6hmqYWxmDyDY",
        "colab": {
          "base_uri": "https://localhost:8080/"
        },
        "outputId": "51b0b6cc-6318-42c0-f962-bfacb2a2a6ef"
      },
      "source": [
        "import cv2\n",
        "import numpy as np\n",
        "from numpy import matlib\n",
        "from matplotlib import pyplot as plt\n",
        "import pandas as pd\n",
        "import tensorflow as tf\n",
        "import torch as torch\n",
        "\n",
        "from google.colab import drive\n",
        "from google.colab.patches import cv2_imshow\n",
        "import os\n",
        "from time import time\n",
        "from tqdm.notebook import tqdm\n",
        "\n",
        "from sklearn.model_selection import train_test_split, GridSearchCV\n",
        "from sklearn.metrics import classification_report, f1_score, make_scorer\n",
        "from sklearn.decomposition import PCA\n",
        "from sklearn.linear_model import LogisticRegression\n",
        "from sklearn.svm import SVC\n",
        "from sklearn.preprocessing import normalize\n",
        "from sklearn.preprocessing import Normalizer, LabelEncoder\n",
        "\n",
        "from tensorflow.keras.applications.vgg16 import VGG16\n",
        "from tensorflow.keras.preprocessing import image\n",
        "from tensorflow.keras.applications.vgg16 import preprocess_input\n",
        "\n",
        "from torch.autograd import Variable\n",
        "from torch.nn import Linear, ReLU, CrossEntropyLoss, Sequential, Conv2d, MaxPool2d, Module, Softmax, BatchNorm2d, Dropout\n",
        "from torch.optim import Adam, SGD\n",
        "import torch\n",
        "import torch.nn as nn\n",
        "import torch.nn.functional as F\n",
        "import torch.optim as optim\n",
        "device = torch.device(\"cuda\" if torch.cuda.is_available() else \"cpu\")\n",
        "!pip install pytorchtools"
      ],
      "execution_count": 1,
      "outputs": [
        {
          "output_type": "stream",
          "text": [
            "Requirement already satisfied: pytorchtools in /usr/local/lib/python3.7/dist-packages (0.0.2)\n"
          ],
          "name": "stdout"
        }
      ]
    },
    {
      "cell_type": "markdown",
      "metadata": {
        "id": "kEcY5bShFpGW"
      },
      "source": [
        "# Loading Raw Image Data"
      ]
    },
    {
      "cell_type": "markdown",
      "metadata": {
        "id": "OaOB3UauZ_Ue"
      },
      "source": [
        "### Extracting images to arrays and saving to **CSV**"
      ]
    },
    {
      "cell_type": "code",
      "metadata": {
        "id": "Kp7ka-eCVlUK"
      },
      "source": [
        "# for dirname, _, filenames in os.walk('/content/gdrive/MyDrive/yalefaces_extended'):\n",
        "#     filecount=len(filenames)\n",
        "#     y=torch.empty(filecount, device='cuda:0')\n",
        "#     X=torch.empty(filecount, 25600, device='cuda:0')    #160x160=25600\n",
        "#     i=0\n",
        "#     with tqdm(total=filecount) as pbar:\n",
        "#       for filename in filenames:\n",
        "#             b = cv2.imread(os.path.join(dirname, filename),0)\n",
        "#             b = cv2.resize(b, (160,160),interpolation = cv2.INTER_AREA)\n",
        "\n",
        "#             X[i]=torch.from_numpy(b.ravel())\n",
        "#             y[i]=int(filename[5:7])\n",
        "\n",
        "#             pbar.update(1)\n",
        "#             i=i+1\n",
        "#             if i==filecount:\n",
        "#               break\n",
        "\n",
        "# np.savetxt('/content/gdrive/MyDrive/yalefaces_extended.csv', \n",
        "#            np.concatenate((X.cpu(),y.cpu()[:,None]),axis=1),\n",
        "#            delimiter =\", \", \n",
        "#            fmt ='%d')"
      ],
      "execution_count": 2,
      "outputs": []
    },
    {
      "cell_type": "markdown",
      "metadata": {
        "id": "jpTVOVXNaHkG"
      },
      "source": [
        "### Using pre-extracted images from CSV file"
      ]
    },
    {
      "cell_type": "code",
      "metadata": {
        "id": "H-CegiR_EWlf",
        "colab": {
          "base_uri": "https://localhost:8080/"
        },
        "outputId": "27d757b8-2b08-4b01-e643-940612a26814"
      },
      "source": [
        "drive.mount('/content/gdrive')"
      ],
      "execution_count": 3,
      "outputs": [
        {
          "output_type": "stream",
          "text": [
            "Drive already mounted at /content/gdrive; to attempt to forcibly remount, call drive.mount(\"/content/gdrive\", force_remount=True).\n"
          ],
          "name": "stdout"
        }
      ]
    },
    {
      "cell_type": "code",
      "metadata": {
        "id": "ysYT0mx3Zkve"
      },
      "source": [
        "data=np.loadtxt('/content/gdrive/MyDrive/yalefaces_extended.csv', delimiter=',')"
      ],
      "execution_count": 4,
      "outputs": []
    },
    {
      "cell_type": "code",
      "metadata": {
        "id": "Ov6R8R_Z2S7z"
      },
      "source": [
        "X=np.array(data[:,:-1], dtype=np.uint8)\n",
        "y=data[:,-1]"
      ],
      "execution_count": 5,
      "outputs": []
    },
    {
      "cell_type": "code",
      "metadata": {
        "id": "1AXhra7khMhQ"
      },
      "source": [
        "x_train, x_test, y_train, y_test = train_test_split(X, y)"
      ],
      "execution_count": 38,
      "outputs": []
    },
    {
      "cell_type": "markdown",
      "metadata": {
        "id": "akulUwyhFJXL"
      },
      "source": [
        "# Feature Extraction"
      ]
    },
    {
      "cell_type": "markdown",
      "metadata": {
        "id": "7CNTAA28FVx4"
      },
      "source": [
        "## Principal Component Analysis (PCA)"
      ]
    },
    {
      "cell_type": "code",
      "metadata": {
        "id": "pBlG7idcEyUA",
        "colab": {
          "base_uri": "https://localhost:8080/",
          "height": 505
        },
        "outputId": "09263f64-efc9-42ad-ec84-46296795a6b9"
      },
      "source": [
        "pca = PCA(n_components=1000).fit(x_train)\n",
        "# Plot cumulative variance captured by the principal components\n",
        "plt.plot(np.cumsum(pca.explained_variance_ratio_))  \n",
        "\n",
        "fig, axes = plt.subplots(3, 8, figsize=(9, 4), subplot_kw={'xticks':[], 'yticks':[]})\n",
        "for i, ax in enumerate(axes.flat):\n",
        "    ax.imshow(pca.components_[i].reshape(160, 160), cmap='gray')\n",
        "    ax.set_title(\"PC \" + str(i+1))\n",
        "\n",
        "Xtrain_pca = normalize(pca.transform(x_train), axis=0)\n",
        "Xtest_pca = normalize(pca.transform(x_test), axis=0)"
      ],
      "execution_count": 7,
      "outputs": [
        {
          "output_type": "display_data",
          "data": {
            "image/png": "[encoded data removed]",
            "text/plain": [
              "<Figure size 432x288 with 1 Axes>"
            ]
          },
          "metadata": {
            "tags": [],
            "needs_background": "light"
          }
        },
        {
          "output_type": "display_data",
          "data": {
            "image/png": "[encoded data removed]",
            "text/plain": [
              "<Figure size 648x288 with 24 Axes>"
            ]
          },
          "metadata": {
            "tags": []
          }
        }
      ]
    },
    {
      "cell_type": "markdown",
      "metadata": {
        "id": "xCUxeTsOveiV"
      },
      "source": [
        "## VGG16"
      ]
    },
    {
      "cell_type": "markdown",
      "metadata": {
        "id": "EYwwa4pDYykL"
      },
      "source": [
        "### Generate features using VGG16 model"
      ]
    },
    {
      "cell_type": "code",
      "metadata": {
        "id": "dlS_w54XvgyS"
      },
      "source": [
        "# n=2470\n",
        "# X_feat = np.empty([n, 224, 224, 3])\n",
        "# lb = np.empty(n)\n",
        "# model = VGG16(weights='imagenet', include_top=False)\n",
        "# for i in tqdm(range(n)):\n",
        "#   j=np.random.randint(2470)\n",
        "#   lb[i]=y[j]\n",
        "#   img = X[j].reshape(160,160)\n",
        "#   img = cv2.resize(img, (224,224),interpolation = cv2.INTER_AREA)\n",
        "#   img = preprocess_input(img)\n",
        "\n",
        "#   b_unroll = img.ravel()\n",
        "#   b_color = np.matlib.repmat(b_unroll, 1, 3)\n",
        "#   b_color = b_color.reshape(224, 224, 3)\n",
        "\n",
        "#   X_feat[i]=b_color\n",
        "\n",
        "\n",
        "# features=model.predict(X_feat)\n",
        "\n",
        "# f2=np.empty([n, 25088])\n",
        "# for i in tqdm(range(n)):\n",
        "#   f2[i]=features[i].ravel()\n",
        "\n",
        "# # print(f2.shape)\n",
        "\n",
        "# np.savetxt('/content/gdrive/MyDrive/yalefaces_extended_vgg16-features2.csv', \n",
        "#            np.concatenate((f2,lb[:,None]),axis=1),\n",
        "#            delimiter =\", \", \n",
        "#            fmt ='%f')\n",
        "# del X_feat\n",
        "# del b_unroll\n",
        "# del b_color\n",
        "# del f2\n",
        "# del lb"
      ],
      "execution_count": 8,
      "outputs": []
    },
    {
      "cell_type": "markdown",
      "metadata": {
        "id": "_OXgrM0FY8o8"
      },
      "source": [
        "### Load previously generated features using VGG16"
      ]
    },
    {
      "cell_type": "code",
      "metadata": {
        "id": "ifj_M6ISXN2g"
      },
      "source": [
        "data=np.loadtxt('/content/gdrive/MyDrive/yalefaces_extended_vgg16-features2.csv', delimiter=',')"
      ],
      "execution_count": 9,
      "outputs": []
    },
    {
      "cell_type": "code",
      "metadata": {
        "id": "w2j1r6eLXe-O"
      },
      "source": [
        "X_vgg=data[:,:-1]\n",
        "y_vgg=data[:,-1]"
      ],
      "execution_count": 10,
      "outputs": []
    },
    {
      "cell_type": "code",
      "metadata": {
        "id": "6gKfEXXc-Dxr"
      },
      "source": [
        "Xtrain_vgg, Xtest_vgg, y_train_vgg, y_test_vgg = train_test_split(X_vgg, y_vgg)"
      ],
      "execution_count": 11,
      "outputs": []
    },
    {
      "cell_type": "markdown",
      "metadata": {
        "id": "mXBWWhumGzLG"
      },
      "source": [
        "# Models"
      ]
    },
    {
      "cell_type": "markdown",
      "metadata": {
        "id": "3r8mErfwG3Mq"
      },
      "source": [
        "## SVM (with PCA)"
      ]
    },
    {
      "cell_type": "code",
      "metadata": {
        "id": "KFdExGckW4iJ",
        "colab": {
          "base_uri": "https://localhost:8080/"
        },
        "outputId": "6de8112e-a9b9-4705-89c9-788b5dbe05f1"
      },
      "source": [
        "clf = SVC(kernel='rbf',C=1e3,gamma=1e-2)\n",
        "start_time = time()\n",
        "clf = clf.fit(Xtrain_pca, y_train)\n",
        "print(\"Training Time: \", time()-start_time, \"s\")\n",
        "y_pred_svm = clf.predict(Xtest_pca)\n",
        "print(classification_report(y_test, y_pred_svm))"
      ],
      "execution_count": 12,
      "outputs": [
        {
          "output_type": "stream",
          "text": [
            "Training Time:  9.491578340530396 s\n",
            "              precision    recall  f1-score   support\n",
            "\n",
            "         1.0       1.00      1.00      1.00        14\n",
            "         2.0       1.00      0.95      0.98        22\n",
            "         3.0       1.00      1.00      1.00        14\n",
            "         4.0       1.00      0.94      0.97        16\n",
            "         5.0       1.00      1.00      1.00        13\n",
            "         6.0       1.00      1.00      1.00        17\n",
            "         7.0       1.00      0.92      0.96        12\n",
            "         8.0       0.87      0.87      0.87        15\n",
            "         9.0       1.00      1.00      1.00        16\n",
            "        10.0       1.00      0.95      0.97        19\n",
            "        11.0       1.00      0.84      0.91        19\n",
            "        12.0       0.92      1.00      0.96        12\n",
            "        13.0       0.58      1.00      0.73        18\n",
            "        15.0       1.00      0.83      0.91        12\n",
            "        16.0       0.93      0.93      0.93        14\n",
            "        17.0       1.00      0.90      0.95        20\n",
            "        18.0       1.00      1.00      1.00        10\n",
            "        19.0       1.00      1.00      1.00        16\n",
            "        20.0       0.75      1.00      0.86        15\n",
            "        21.0       1.00      0.93      0.97        15\n",
            "        22.0       1.00      1.00      1.00        14\n",
            "        23.0       0.89      0.89      0.89        18\n",
            "        24.0       1.00      1.00      1.00        11\n",
            "        25.0       0.96      1.00      0.98        22\n",
            "        26.0       1.00      1.00      1.00        21\n",
            "        27.0       1.00      0.95      0.97        19\n",
            "        28.0       0.92      0.92      0.92        12\n",
            "        29.0       0.95      0.82      0.88        22\n",
            "        30.0       0.93      0.93      0.93        14\n",
            "        31.0       0.94      1.00      0.97        15\n",
            "        32.0       0.80      0.84      0.82        19\n",
            "        33.0       0.94      0.94      0.94        17\n",
            "        34.0       0.92      0.86      0.89        14\n",
            "        35.0       1.00      0.88      0.94        17\n",
            "        36.0       1.00      1.00      1.00        21\n",
            "        37.0       0.94      0.84      0.89        19\n",
            "        38.0       1.00      0.94      0.97        17\n",
            "        39.0       1.00      1.00      1.00        17\n",
            "\n",
            "    accuracy                           0.94       618\n",
            "   macro avg       0.95      0.94      0.95       618\n",
            "weighted avg       0.95      0.94      0.94       618\n",
            "\n"
          ],
          "name": "stdout"
        }
      ]
    },
    {
      "cell_type": "markdown",
      "metadata": {
        "id": "sedvUBoyqQUZ"
      },
      "source": [
        "### Improve performance by hyperparameter tuning"
      ]
    },
    {
      "cell_type": "code",
      "metadata": {
        "id": "56a7vwMKlup_"
      },
      "source": [
        "# scorer = make_scorer(f1_score, average='macro')\n",
        "\n",
        "# tuned_parameters = [{'kernel': ['rbf','poly','linear','sigmoid'], 'gamma': [1e-1, 1e-2, 1e-3, 1e-4],\n",
        "#                      'C': [10, 100, 1000, 10000]}]\n",
        "# scores = ['precision', 'recall']\n",
        "# #for score in scores:\n",
        "\n",
        "# clf = GridSearchCV(SVC(), tuned_parameters, scoring=scorer)\n",
        "# clf.fit(Normalizer().fit(Xtrain_pca).transform(Xtrain_pca), y_train)\n",
        "# params=clf.best_params_\n",
        "# print(clf.best_params_)\n",
        "# cv= SVC(C=params[\"C\"], gamma= params[\"gamma\"], kernel=params[\"kernel\"])\n",
        "# cv.fit(Normalizer().fit(Xtrain_pca).transform(Xtrain_pca), y_train)\n",
        "\n",
        "# y_pred = cv.predict(Normalizer().fit(Xtest_pca).transform(Xtest_pca))\n",
        "# pd.DataFrame(classification_report(y_test, y_pred, output_dict=True)).transpose()"
      ],
      "execution_count": 13,
      "outputs": []
    },
    {
      "cell_type": "markdown",
      "metadata": {
        "id": "5b5stTBrW01r"
      },
      "source": [
        "## SVM (with VGG16)"
      ]
    },
    {
      "cell_type": "code",
      "metadata": {
        "id": "aPHyLMLREzuJ",
        "colab": {
          "base_uri": "https://localhost:8080/"
        },
        "outputId": "9bb5ff43-7f15-43c0-9a4c-6d2a01cf7b17"
      },
      "source": [
        "clf = SVC(kernel='rbf',C=100,gamma=1e-2)\n",
        "start_time = time()\n",
        "clf = clf.fit(Xtrain_vgg, y_train_vgg)\n",
        "print(\"Training Time: \", time()-start_time, \"s\")\n",
        "\n",
        "y_pred_svm_vgg = clf.predict(Xtest_vgg)\n",
        "print(classification_report(y_test_vgg, y_pred_svm_vgg))"
      ],
      "execution_count": 14,
      "outputs": [
        {
          "output_type": "stream",
          "text": [
            "Training Time:  163.97040724754333 s\n",
            "              precision    recall  f1-score   support\n",
            "\n",
            "         1.0       1.00      0.67      0.80        21\n",
            "         2.0       1.00      0.40      0.57        20\n",
            "         3.0       1.00      0.57      0.73        21\n",
            "         4.0       1.00      0.37      0.54        19\n",
            "         5.0       1.00      0.55      0.71        20\n",
            "         6.0       1.00      0.67      0.80        12\n",
            "         7.0       1.00      0.50      0.67        10\n",
            "         8.0       1.00      0.42      0.59        12\n",
            "         9.0       1.00      0.45      0.62        22\n",
            "        10.0       1.00      0.62      0.76        13\n",
            "        11.0       1.00      0.44      0.61        16\n",
            "        12.0       1.00      0.56      0.72        16\n",
            "        13.0       1.00      0.50      0.67        16\n",
            "        15.0       1.00      0.61      0.76        18\n",
            "        16.0       1.00      0.70      0.82        10\n",
            "        17.0       1.00      0.53      0.69        17\n",
            "        18.0       1.00      0.67      0.80        18\n",
            "        19.0       1.00      0.60      0.75        15\n",
            "        20.0       1.00      0.82      0.90        17\n",
            "        21.0       0.07      1.00      0.13        20\n",
            "        22.0       1.00      0.47      0.64        17\n",
            "        23.0       1.00      0.83      0.91        12\n",
            "        24.0       1.00      0.56      0.71        18\n",
            "        25.0       1.00      0.60      0.75        10\n",
            "        26.0       1.00      0.60      0.75        15\n",
            "        27.0       1.00      0.62      0.77        16\n",
            "        28.0       1.00      0.50      0.67        24\n",
            "        29.0       1.00      0.46      0.63        13\n",
            "        30.0       1.00      0.80      0.89        10\n",
            "        31.0       1.00      0.41      0.58        17\n",
            "        32.0       1.00      0.36      0.53        22\n",
            "        33.0       1.00      0.31      0.48        16\n",
            "        34.0       1.00      0.27      0.43        11\n",
            "        35.0       1.00      0.29      0.45        24\n",
            "        36.0       1.00      0.58      0.74        12\n",
            "        37.0       1.00      0.77      0.87        13\n",
            "        38.0       1.00      0.55      0.71        20\n",
            "        39.0       1.00      0.53      0.70        15\n",
            "\n",
            "    accuracy                           0.55       618\n",
            "   macro avg       0.98      0.56      0.68       618\n",
            "weighted avg       0.97      0.55      0.67       618\n",
            "\n"
          ],
          "name": "stdout"
        }
      ]
    },
    {
      "cell_type": "markdown",
      "metadata": {
        "id": "nuUhZU2vLZoD"
      },
      "source": [
        "## Feed-forward Neural Network"
      ]
    },
    {
      "cell_type": "code",
      "metadata": {
        "id": "Ux_08qCgWtYb"
      },
      "source": [
        "class net(nn.Module):\n",
        "  def __init__(self,input_dim):\n",
        "    super(net,self).__init__()\n",
        "    self.bn1=nn.BatchNorm1d(input_dim)\n",
        "    self.fc1=nn.Linear(input_dim,128)\n",
        "    self.g1=nn.ReLU()\n",
        "    #self.bn2=nn.BatchNorm1d(128)\n",
        "    #self.d1=nn.Dropout(p=0.4)\n",
        "    self.fc2=nn.Linear(128,128)\n",
        "    self.g2=nn.ReLU()\n",
        "    #self.bn3=nn.BatchNorm1d(256)\n",
        "    self.fc3=nn.Linear(128,128)\n",
        "    self.g3=nn.ReLU()\n",
        "    self.fc4=nn.Linear(128,39)\n",
        "    #self.g4=F.softmax(out, dim=1)\n",
        "    \n",
        "  def forward(self, x):\n",
        "    out=self.bn1(x)\n",
        "    out=x\n",
        "    out=self.fc1(out)\n",
        "    out=self.g1(out)\n",
        "    #out=F.dropout(out,p=0.2)\n",
        "    #out=self.bn2(out)\n",
        "    #out=self.d1(out)\n",
        "    out=self.fc2(out)\n",
        "    out=self.g2(out)\n",
        "    #out=F.dropout(out,p=0.2)\n",
        "    #out=self.bn3(out)\n",
        "    out=self.fc3(out)\n",
        "    out=self.g3(out)\n",
        "    out=self.fc4(out)\n",
        "    #out=self.g4(out)\n",
        "    return out\n",
        "\n",
        "#criterion = nn.CrossEntropyLoss()\n",
        "#optimizer = optim.SGD(my_net.parameters(), lr=0.003)\n"
      ],
      "execution_count": 15,
      "outputs": []
    },
    {
      "cell_type": "code",
      "metadata": {
        "id": "G-MW36B6W-qd"
      },
      "source": [
        "def ffnn_output(x_train,y_train,x_test,y_test,n_iters=1000):\n",
        "  x_train=x_train.astype(np.float32)\n",
        "  x_test=x_test.astype(np.float32)\n",
        "  input=torch.tensor(x_train,device=device)\n",
        "  test_input=torch.tensor(x_test,device=device)\n",
        "  labels=torch.tensor(y_train-1,dtype=torch.long,device=device)\n",
        "  test_labels=torch.tensor(y_test-1,dtype=torch.long,device=device)\n",
        "\n",
        "  loss_record=[]\n",
        "  my_net=net(x_train.shape[1])\n",
        "  my_net.to(device)\n",
        "  m=x_train.shape[0]\n",
        "\n",
        "  criterion = nn.CrossEntropyLoss()\n",
        "  optimizer = optim.SGD(my_net.parameters(), lr=0.003)\n",
        "  start_time=time()\n",
        "  for i in tqdm(range(n_iters)):\n",
        "    \n",
        "    optimizer.zero_grad()\n",
        "\n",
        "    outputs = my_net(input)\n",
        "\n",
        "    \n",
        "    loss = criterion(outputs, labels)\n",
        "\n",
        "    \n",
        "    loss.backward()\n",
        "\n",
        "    \n",
        "    optimizer.step()\n",
        "\n",
        "    loss_record.append(loss.item()/m)\n",
        "\n",
        "    \n",
        "  print(\"Training Time: \", time()-start_time, \"s\")\n",
        "  plt.plot(loss_record)\n",
        "\n",
        "  y_pred=my_net(test_input)\n",
        "  y_pred=y_pred.cpu().detach().numpy()\n",
        "  \n",
        "  print(classification_report(test_labels.cpu(), np.argmax(y_pred,axis=1)))\n",
        "  "
      ],
      "execution_count": 16,
      "outputs": []
    },
    {
      "cell_type": "code",
      "metadata": {
        "id": "pXCBsq_HaPPq",
        "colab": {
          "base_uri": "https://localhost:8080/",
          "height": 1000,
          "referenced_widgets": [
            "f18f7409d1d540ceba6efb772409c3cf",
            "10e7987240fa4c8396e3c6804404a81b",
            "fbf0e10e6b014b8798a247e4a58261cf",
            "415477702de345488f09e0b8cf0a6d73",
            "c6869b73436f4139808ed3df5e998f17",
            "d068e3849a17475bade5728ce4be80b9",
            "1930b2606c764b47b78206e41809c951",
            "e0a6a0cf05f9411ba3590b7eaedff95d"
          ]
        },
        "outputId": "4fe6a465-9276-4e6e-8201-173433a68e62"
      },
      "source": [
        "pca_X_csv=X\n",
        "pca = PCA(n_components=1000).fit_transform(pca_X_csv)\n",
        "pca_x_train, pca_x_test, pca_y_train, pca_y_test = train_test_split(pca, y)\n",
        "ffnn_output(pca_x_train,pca_y_train, pca_x_test, pca_y_test,1000)"
      ],
      "execution_count": 17,
      "outputs": [
        {
          "output_type": "display_data",
          "data": {
            "application/vnd.jupyter.widget-view+json": {
              "model_id": "f18f7409d1d540ceba6efb772409c3cf",
              "version_minor": 0,
              "version_major": 2
            },
            "text/plain": [
              "HBox(children=(FloatProgress(value=0.0, max=1000.0), HTML(value='')))"
            ]
          },
          "metadata": {
            "tags": []
          }
        },
        {
          "output_type": "stream",
          "text": [
            "\n",
            "Training Time:  1.5963103771209717 s\n",
            "              precision    recall  f1-score   support\n",
            "\n",
            "           0       0.80      0.80      0.80        15\n",
            "           1       1.00      0.75      0.86        16\n",
            "           2       0.75      0.71      0.73        21\n",
            "           3       0.93      0.87      0.90        15\n",
            "           4       0.89      0.67      0.76        12\n",
            "           5       0.76      0.76      0.76        17\n",
            "           6       0.69      0.90      0.78        20\n",
            "           7       0.71      0.75      0.73        16\n",
            "           8       0.92      0.92      0.92        13\n",
            "           9       1.00      0.90      0.95        10\n",
            "          10       0.83      0.62      0.71         8\n",
            "          11       1.00      0.93      0.96        14\n",
            "          12       0.56      0.82      0.67        17\n",
            "          14       0.94      0.94      0.94        16\n",
            "          15       1.00      0.60      0.75        15\n",
            "          16       0.89      0.80      0.84        20\n",
            "          17       1.00      0.71      0.83        21\n",
            "          18       0.78      0.95      0.86        19\n",
            "          19       0.81      0.76      0.79        17\n",
            "          20       0.69      0.85      0.76        13\n",
            "          21       0.88      0.83      0.86        18\n",
            "          22       0.89      0.94      0.92        18\n",
            "          23       0.88      1.00      0.94        15\n",
            "          24       0.68      0.93      0.79        14\n",
            "          25       0.74      0.88      0.80        16\n",
            "          26       0.80      0.86      0.83        14\n",
            "          27       0.94      0.88      0.91        17\n",
            "          28       1.00      0.62      0.77        16\n",
            "          29       0.65      0.81      0.72        16\n",
            "          30       0.80      0.86      0.83        14\n",
            "          31       0.80      0.84      0.82        19\n",
            "          32       0.75      0.68      0.71        22\n",
            "          33       0.94      0.75      0.83        20\n",
            "          34       0.80      0.75      0.77        16\n",
            "          35       0.93      0.76      0.84        17\n",
            "          36       0.57      0.80      0.67        20\n",
            "          37       0.88      1.00      0.94        15\n",
            "          38       0.92      0.69      0.79        16\n",
            "\n",
            "    accuracy                           0.81       618\n",
            "   macro avg       0.84      0.81      0.82       618\n",
            "weighted avg       0.83      0.81      0.81       618\n",
            "\n"
          ],
          "name": "stdout"
        },
        {
          "output_type": "display_data",
          "data": {
            "image/png": "[encoded data removed]",
            "text/plain": [
              "<Figure size 432x288 with 1 Axes>"
            ]
          },
          "metadata": {
            "tags": [],
            "needs_background": "light"
          }
        }
      ]
    },
    {
      "cell_type": "markdown",
      "metadata": {
        "id": "oce7ZdP9goWm"
      },
      "source": [
        "## Logistic Regression (PCA)"
      ]
    },
    {
      "cell_type": "code",
      "metadata": {
        "id": "PhygicMybHDd"
      },
      "source": [
        "x_train=normalize(Xtrain_pca, axis=0)\n",
        "x_test=normalize(Xtest_pca, axis=0)\n",
        "\n",
        "# y_train=pca_y_train \n",
        "# y_test=pca_y_test"
      ],
      "execution_count": 18,
      "outputs": []
    },
    {
      "cell_type": "code",
      "metadata": {
        "id": "ld_YsYiFdsbZ",
        "colab": {
          "base_uri": "https://localhost:8080/"
        },
        "outputId": "a2938d98-a857-49ee-95d5-3664e00b6d03"
      },
      "source": [
        "def log_reg_output(x_train,y_train,x_test,y_test):\n",
        "  log_reg=LogisticRegression(max_iter=1000)\n",
        "\n",
        "  start_time=time()\n",
        "  log_reg.fit(x_train,y_train)\n",
        "  print(\"Training Time: \", time()-start_time, \"s\")\n",
        "\n",
        "  y_pred_logreg=log_reg.predict(x_test)\n",
        "\n",
        "  print(classification_report(y_test,y_pred_logreg))\n",
        "\n",
        "log_reg_output(x_train,y_train,x_test,y_test)"
      ],
      "execution_count": 19,
      "outputs": [
        {
          "output_type": "stream",
          "text": [
            "Training Time:  0.747314453125 s\n",
            "              precision    recall  f1-score   support\n",
            "\n",
            "         1.0       1.00      1.00      1.00        14\n",
            "         2.0       1.00      0.95      0.98        22\n",
            "         3.0       1.00      1.00      1.00        14\n",
            "         4.0       0.94      1.00      0.97        16\n",
            "         5.0       1.00      1.00      1.00        13\n",
            "         6.0       0.94      1.00      0.97        17\n",
            "         7.0       1.00      1.00      1.00        12\n",
            "         8.0       1.00      1.00      1.00        15\n",
            "         9.0       1.00      1.00      1.00        16\n",
            "        10.0       1.00      1.00      1.00        19\n",
            "        11.0       1.00      0.89      0.94        19\n",
            "        12.0       1.00      1.00      1.00        12\n",
            "        13.0       0.94      0.89      0.91        18\n",
            "        15.0       1.00      0.92      0.96        12\n",
            "        16.0       1.00      1.00      1.00        14\n",
            "        17.0       1.00      0.90      0.95        20\n",
            "        18.0       0.62      1.00      0.77        10\n",
            "        19.0       1.00      1.00      1.00        16\n",
            "        20.0       0.94      1.00      0.97        15\n",
            "        21.0       1.00      0.93      0.97        15\n",
            "        22.0       1.00      1.00      1.00        14\n",
            "        23.0       1.00      0.94      0.97        18\n",
            "        24.0       1.00      1.00      1.00        11\n",
            "        25.0       1.00      1.00      1.00        22\n",
            "        26.0       1.00      1.00      1.00        21\n",
            "        27.0       1.00      1.00      1.00        19\n",
            "        28.0       0.92      1.00      0.96        12\n",
            "        29.0       1.00      0.82      0.90        22\n",
            "        30.0       0.87      0.93      0.90        14\n",
            "        31.0       0.94      1.00      0.97        15\n",
            "        32.0       0.95      0.95      0.95        19\n",
            "        33.0       1.00      0.94      0.97        17\n",
            "        34.0       1.00      1.00      1.00        14\n",
            "        35.0       0.85      1.00      0.92        17\n",
            "        36.0       1.00      1.00      1.00        21\n",
            "        37.0       1.00      0.95      0.97        19\n",
            "        38.0       1.00      1.00      1.00        17\n",
            "        39.0       1.00      1.00      1.00        17\n",
            "\n",
            "    accuracy                           0.97       618\n",
            "   macro avg       0.97      0.97      0.97       618\n",
            "weighted avg       0.98      0.97      0.97       618\n",
            "\n"
          ],
          "name": "stdout"
        }
      ]
    },
    {
      "cell_type": "markdown",
      "metadata": {
        "id": "O-ONUdulY1r8"
      },
      "source": [
        "## Logistic Regression (VGG16)"
      ]
    },
    {
      "cell_type": "code",
      "metadata": {
        "id": "nKW98xkwY1r9"
      },
      "source": [
        "x_train=normalize(Xtrain_vgg, axis=0)\n",
        "x_test=normalize(Xtest_vgg, axis=0)\n",
        "\n",
        "y_train=y_train_vgg \n",
        "y_test=y_test_vgg"
      ],
      "execution_count": 20,
      "outputs": []
    },
    {
      "cell_type": "code",
      "metadata": {
        "id": "kDTGr5FQY1r9",
        "colab": {
          "base_uri": "https://localhost:8080/"
        },
        "outputId": "817063b8-5798-4882-8353-a3e473b1de52"
      },
      "source": [
        "def log_reg_output(x_train,y_train,x_test,y_test):\n",
        "  log_reg=LogisticRegression(max_iter=1000)\n",
        "\n",
        "  start_time=time()\n",
        "  log_reg.fit(x_train,y_train)\n",
        "  print(\"Training Time: \", time()-start_time, \"s\")\n",
        "\n",
        "  y_pred_logreg=log_reg.predict(x_test)\n",
        "\n",
        "  print(classification_report(y_test,y_pred_logreg))\n",
        "\n",
        "log_reg_output(x_train,y_train,x_test,y_test)"
      ],
      "execution_count": 21,
      "outputs": [
        {
          "output_type": "stream",
          "text": [
            "Training Time:  29.25606632232666 s\n",
            "              precision    recall  f1-score   support\n",
            "\n",
            "         1.0       0.86      0.86      0.86        21\n",
            "         2.0       0.94      0.75      0.83        20\n",
            "         3.0       0.90      0.90      0.90        21\n",
            "         4.0       0.93      0.74      0.82        19\n",
            "         5.0       0.91      1.00      0.95        20\n",
            "         6.0       0.83      0.83      0.83        12\n",
            "         7.0       1.00      0.70      0.82        10\n",
            "         8.0       1.00      0.83      0.91        12\n",
            "         9.0       0.87      0.91      0.89        22\n",
            "        10.0       0.81      1.00      0.90        13\n",
            "        11.0       0.93      0.88      0.90        16\n",
            "        12.0       1.00      0.94      0.97        16\n",
            "        13.0       0.93      0.81      0.87        16\n",
            "        15.0       0.94      0.83      0.88        18\n",
            "        16.0       0.83      1.00      0.91        10\n",
            "        17.0       0.79      0.88      0.83        17\n",
            "        18.0       0.94      0.94      0.94        18\n",
            "        19.0       0.82      0.93      0.87        15\n",
            "        20.0       1.00      0.94      0.97        17\n",
            "        21.0       0.95      1.00      0.98        20\n",
            "        22.0       0.81      1.00      0.89        17\n",
            "        23.0       0.92      1.00      0.96        12\n",
            "        24.0       0.90      1.00      0.95        18\n",
            "        25.0       0.75      0.90      0.82        10\n",
            "        26.0       0.67      0.93      0.78        15\n",
            "        27.0       1.00      1.00      1.00        16\n",
            "        28.0       0.91      0.88      0.89        24\n",
            "        29.0       0.69      0.85      0.76        13\n",
            "        30.0       0.75      0.90      0.82        10\n",
            "        31.0       1.00      0.88      0.94        17\n",
            "        32.0       1.00      0.82      0.90        22\n",
            "        33.0       0.74      0.88      0.80        16\n",
            "        34.0       1.00      0.45      0.62        11\n",
            "        35.0       0.90      0.75      0.82        24\n",
            "        36.0       0.56      0.75      0.64        12\n",
            "        37.0       0.87      1.00      0.93        13\n",
            "        38.0       1.00      0.85      0.92        20\n",
            "        39.0       1.00      0.87      0.93        15\n",
            "\n",
            "    accuracy                           0.88       618\n",
            "   macro avg       0.89      0.88      0.87       618\n",
            "weighted avg       0.89      0.88      0.88       618\n",
            "\n"
          ],
          "name": "stdout"
        }
      ]
    },
    {
      "cell_type": "markdown",
      "metadata": {
        "id": "5RZNjfI0vsBp"
      },
      "source": [
        "## Convolutional Neural Network (CNN)"
      ]
    },
    {
      "cell_type": "code",
      "metadata": {
        "id": "Oe57osR2waxf",
        "colab": {
          "base_uri": "https://localhost:8080/"
        },
        "outputId": "5fb4722b-1344-49e6-ecdf-3263fc6a6909"
      },
      "source": [
        "x_train_cnn=np.resize(x_train,(x_train.shape[0],160,160))\n",
        "x_test_cnn=np.resize(x_test,(x_test.shape[0],160,160))\n",
        "y_train_cnn=y_train\n",
        "y_test_cnn=y_test\n",
        "\n",
        "print(x_train_cnn.shape)\n",
        "print(x_test_cnn.shape)\n",
        "print(y_train_cnn.shape)\n",
        "print(y_test_cnn.shape)\n",
        "\n",
        "x_train_cnn = x_train_cnn.reshape(x_train.shape[0], 1, 160, 160)\n",
        "x_train_cnn=x_train_cnn.astype(np.float32)\n",
        "x_train_cnn  = torch.from_numpy(x_train_cnn)\n",
        "\n",
        "# converting the target into torch format\n",
        "y_train_cnn = y_train-1\n",
        "y_train_cnn = y_train_cnn.astype(int);\n",
        "y_train_cnn = torch.from_numpy(y_train_cnn)\n",
        "\n",
        "# shape of training data\n",
        "x_train_cnn.shape, y_train_cnn.shape\n",
        "\n",
        "x_test_cnn = x_test_cnn.reshape(x_test.shape[0], 1, 160, 160)\n",
        "x_test_cnn=x_test_cnn.astype(np.float32)\n",
        "x_test_cnn  = torch.from_numpy(x_test_cnn)\n",
        "\n",
        "# converting the target into torch format\n",
        "y_test_cnn = y_test-1\n",
        "y_test_cnn = y_test_cnn.astype(int);\n",
        "y_test_cnn = torch.from_numpy(y_test_cnn)\n",
        "\n",
        "# shape of test data\n",
        "x_test_cnn.shape, y_test_cnn.shape"
      ],
      "execution_count": 39,
      "outputs": [
        {
          "output_type": "stream",
          "text": [
            "(1852, 160, 160)\n",
            "(618, 160, 160)\n",
            "(1852,)\n",
            "(618,)\n"
          ],
          "name": "stdout"
        },
        {
          "output_type": "execute_result",
          "data": {
            "text/plain": [
              "(torch.Size([618, 1, 160, 160]), torch.Size([618]))"
            ]
          },
          "metadata": {
            "tags": []
          },
          "execution_count": 39
        }
      ]
    },
    {
      "cell_type": "code",
      "metadata": {
        "id": "-q3DbHR2xVF-"
      },
      "source": [
        "class CNN_Net(nn.Module):\n",
        "  def __init__(self):\n",
        "    super(CNN_Net, self).__init__()\n",
        "\n",
        "    self.conv1=nn.Conv2d(1,12,kernel_size=5)\n",
        "    self.a1=nn.ReLU()\n",
        "    self.pool1=nn.MaxPool2d(2,stride=2)\n",
        "    self.conv2=nn.Conv2d(12,24,kernel_size=4,stride=2)\n",
        "    self.a2=nn.ReLU()\n",
        "    self.pool2=nn.MaxPool2d(2)\n",
        "    self.conv3=nn.Conv2d(24,32,kernel_size=3,stride=2)\n",
        "    self.a3=nn.ReLU()\n",
        "    self.pool3=nn.MaxPool2d(2)\n",
        "    self.fc1 = nn.Linear(512, 120) \n",
        "    self.fc2 = nn.Linear(120, 84)\n",
        "    self.fc3 = nn.Linear(84, 39)\n",
        "\n",
        "  def forward(self,out):\n",
        "    out=self.conv1(out)\n",
        "    out=self.a1(out)\n",
        "    out=self.pool1(out)\n",
        "    out=self.conv2(out)\n",
        "    out=self.a2(out)\n",
        "    out=self.pool2(out)\n",
        "    out=self.conv3(out)\n",
        "    out=self.a3(out)\n",
        "    out=self.pool3(out)\n",
        "    out = torch.flatten(out, 1)\n",
        "    out=self.fc1(out)\n",
        "    out=self.fc2(out)\n",
        "    out=self.fc3(out)\n",
        "\n",
        "    return out\n"
      ],
      "execution_count": 40,
      "outputs": []
    },
    {
      "cell_type": "code",
      "metadata": {
        "id": "QyHe_dZy8uZ5",
        "colab": {
          "base_uri": "https://localhost:8080/"
        },
        "outputId": "9bc1f9aa-fd1a-4def-8ada-2564c7e6c90c"
      },
      "source": [
        "model = CNN_Net()\n",
        "# defining the optimizer\n",
        "optimizer = optim.Adam(model.parameters(), lr=0.001)\n",
        "# defining the loss function\n",
        "criterion = nn.CrossEntropyLoss()\n",
        "# checking if GPU is available\n",
        "if torch.cuda.is_available():\n",
        "    model = model.cuda()\n",
        "    criterion = criterion.cuda()\n",
        "    \n",
        "print(model)"
      ],
      "execution_count": 41,
      "outputs": [
        {
          "output_type": "stream",
          "text": [
            "CNN_Net(\n",
            "  (conv1): Conv2d(1, 12, kernel_size=(5, 5), stride=(1, 1))\n",
            "  (a1): ReLU()\n",
            "  (pool1): MaxPool2d(kernel_size=2, stride=2, padding=0, dilation=1, ceil_mode=False)\n",
            "  (conv2): Conv2d(12, 24, kernel_size=(4, 4), stride=(2, 2))\n",
            "  (a2): ReLU()\n",
            "  (pool2): MaxPool2d(kernel_size=2, stride=2, padding=0, dilation=1, ceil_mode=False)\n",
            "  (conv3): Conv2d(24, 32, kernel_size=(3, 3), stride=(2, 2))\n",
            "  (a3): ReLU()\n",
            "  (pool3): MaxPool2d(kernel_size=2, stride=2, padding=0, dilation=1, ceil_mode=False)\n",
            "  (fc1): Linear(in_features=512, out_features=120, bias=True)\n",
            "  (fc2): Linear(in_features=120, out_features=84, bias=True)\n",
            "  (fc3): Linear(in_features=84, out_features=39, bias=True)\n",
            ")\n"
          ],
          "name": "stdout"
        }
      ]
    },
    {
      "cell_type": "code",
      "metadata": {
        "id": "F2aTRbo49KkV"
      },
      "source": [
        "from torch.autograd import Variable\n",
        "x_train_new, y_train_new = Variable(x_train_cnn), Variable(y_train_cnn)\n",
        "x_val_new, y_val_new = Variable(x_test_cnn[:100]), Variable(y_test_cnn[:100])\n",
        "\n",
        "\"\"\"import pytorchtools\n",
        "from pytorchtools import EarlyStopping\n",
        "callbacks = [EarlyStopping(monitor='val_loss', patience=5)]\n",
        "model.set_callbacks(callbacks)\"\"\"\n",
        "\n",
        "best_loss=100000\n",
        "flag=0\n",
        "\n",
        "def train(epoch,x_train=x_train_new, y_train=y_train_new,x_val=x_val_new, y_val=y_val_new,best_loss=best_loss):\n",
        "    model.train()\n",
        "    tr_loss = 0\n",
        "    # getting the training set\n",
        "    #x_train, y_train = Variable(x_train_cnn), Variable(y_train_cnn)\n",
        "    # getting the validation set\n",
        "    #x_val, y_val = Variable(x_test_cnn), Variable(y_test_cnn)\n",
        "    # converting the data into GPU format\n",
        "    if torch.cuda.is_available():\n",
        "        x_train = x_train.cuda()\n",
        "        y_train = y_train.cuda()\n",
        "        x_val = x_val.cuda()\n",
        "        y_val = y_val.cuda()\n",
        "\n",
        "    # clearing the Gradients of the model parameters\n",
        "    optimizer.zero_grad()\n",
        "    \n",
        "    # prediction for training and validation set\n",
        "    output_train = model(x_train)\n",
        "    output_val = model(x_val)\n",
        "\n",
        "    # computing the training and validation loss\n",
        "    loss_train = criterion(output_train, y_train)\n",
        "    loss_val = criterion(output_val, y_val)\n",
        "    train_losses.append(loss_train.item()/y_train.shape[0])\n",
        "    val_losses.append(loss_val.item()/y_val.shape[0])\n",
        "\n",
        "    print('Epoch : ',epoch+1, '\\t', 'train_loss :', loss_train.item(),'\\t', 'test_loss :', loss_val.item())\n",
        "\n",
        "    # computing the updated weights of all the model parameters\n",
        "    loss_train.backward()\n",
        "    optimizer.step()\n",
        "    tr_loss = loss_train.item()\n",
        "\n",
        "\n",
        "    #Early stopping\n",
        "    if best_loss > loss_val.item():\n",
        "      best_loss= loss_val.item()\n",
        "      flag = 0\n",
        "      #torch.save(model.state_dict(), \"model_\" + str(fold) + 'weight.pt')\n",
        "      torch.save(model, \"/content/best_model.pt\")\n",
        "    else:\n",
        "        flag += 1\n",
        "        print(\"Counter {} of 5\".format(es))\n",
        "\n",
        "        if flag > 4:\n",
        "          print(\"Early stopping with best_loss: \", best_loss, \"and val_loss for this epoch: \", loss_val.item(), \"...\")\n",
        "          return\n",
        "\n",
        " \n",
        "\n",
        "\n",
        "    #if epoch%2 == 0:\n",
        "        # printing the validation loss\n",
        "        #print('Epoch : ',epoch+1, '\\t', 'loss :', loss_val.item())"
      ],
      "execution_count": 42,
      "outputs": []
    },
    {
      "cell_type": "code",
      "metadata": {
        "id": "VTgcDafO-LXh",
        "colab": {
          "base_uri": "https://localhost:8080/"
        },
        "outputId": "27980294-6247-454e-8b8c-e351d79e9f31"
      },
      "source": [
        "n_epochs = 50\n",
        "# empty list to store training losses\n",
        "train_losses = []\n",
        "# empty list to store validation losses\n",
        "val_losses = []\n",
        "# training the model\n",
        "for epoch in range(n_epochs):\n",
        "    train(epoch)"
      ],
      "execution_count": 43,
      "outputs": [
        {
          "output_type": "stream",
          "text": [
            "Epoch :  1 \t train_loss : 5.841606616973877 \t test_loss : 6.035068511962891\n",
            "Epoch :  2 \t train_loss : 4.404585838317871 \t test_loss : 4.255390644073486\n",
            "Epoch :  3 \t train_loss : 3.989061117172241 \t test_loss : 3.8468146324157715\n",
            "Epoch :  4 \t train_loss : 3.863755226135254 \t test_loss : 3.7873764038085938\n",
            "Epoch :  5 \t train_loss : 3.726210117340088 \t test_loss : 3.7190582752227783\n",
            "Epoch :  6 \t train_loss : 3.64911150932312 \t test_loss : 3.6895995140075684\n",
            "Epoch :  7 \t train_loss : 3.6104042530059814 \t test_loss : 3.6726412773132324\n",
            "Epoch :  8 \t train_loss : 3.589515447616577 \t test_loss : 3.6519930362701416\n",
            "Epoch :  9 \t train_loss : 3.5701353549957275 \t test_loss : 3.6266934871673584\n",
            "Epoch :  10 \t train_loss : 3.5525593757629395 \t test_loss : 3.6054043769836426\n",
            "Epoch :  11 \t train_loss : 3.533952474594116 \t test_loss : 3.5878729820251465\n",
            "Epoch :  12 \t train_loss : 3.5098936557769775 \t test_loss : 3.5698065757751465\n",
            "Epoch :  13 \t train_loss : 3.480356216430664 \t test_loss : 3.549333095550537\n",
            "Epoch :  14 \t train_loss : 3.4514360427856445 \t test_loss : 3.5327188968658447\n",
            "Epoch :  15 \t train_loss : 3.4230947494506836 \t test_loss : 3.5132720470428467\n",
            "Epoch :  16 \t train_loss : 3.375933885574341 \t test_loss : 3.4783716201782227\n",
            "Epoch :  17 \t train_loss : 3.3156471252441406 \t test_loss : 3.431138515472412\n",
            "Epoch :  18 \t train_loss : 3.251835346221924 \t test_loss : 3.3777616024017334\n",
            "Epoch :  19 \t train_loss : 3.1751716136932373 \t test_loss : 3.3155548572540283\n",
            "Epoch :  20 \t train_loss : 3.085718870162964 \t test_loss : 3.240866184234619\n",
            "Epoch :  21 \t train_loss : 2.9926340579986572 \t test_loss : 3.153804063796997\n",
            "Epoch :  22 \t train_loss : 2.872206926345825 \t test_loss : 3.0574426651000977\n",
            "Epoch :  23 \t train_loss : 2.7488255500793457 \t test_loss : 2.963015556335449\n",
            "Epoch :  24 \t train_loss : 2.608246326446533 \t test_loss : 2.827477216720581\n",
            "Epoch :  25 \t train_loss : 2.44746470451355 \t test_loss : 2.6683804988861084\n",
            "Epoch :  26 \t train_loss : 2.273909330368042 \t test_loss : 2.514706611633301\n",
            "Epoch :  27 \t train_loss : 2.0922255516052246 \t test_loss : 2.3437340259552\n",
            "Epoch :  28 \t train_loss : 1.9068187475204468 \t test_loss : 2.1420671939849854\n",
            "Epoch :  29 \t train_loss : 1.729245662689209 \t test_loss : 1.9941754341125488\n",
            "Epoch :  30 \t train_loss : 1.544203519821167 \t test_loss : 1.806257724761963\n",
            "Epoch :  31 \t train_loss : 1.3938030004501343 \t test_loss : 1.703926682472229\n",
            "Epoch :  32 \t train_loss : 1.299259901046753 \t test_loss : 1.6154468059539795\n",
            "Epoch :  33 \t train_loss : 1.1843231916427612 \t test_loss : 1.5951768159866333\n",
            "Epoch :  34 \t train_loss : 1.0040791034698486 \t test_loss : 1.4124326705932617\n",
            "Epoch :  35 \t train_loss : 0.9509480595588684 \t test_loss : 1.3775057792663574\n",
            "Epoch :  36 \t train_loss : 0.8156543374061584 \t test_loss : 1.3042570352554321\n",
            "Epoch :  37 \t train_loss : 0.7517433166503906 \t test_loss : 1.2875285148620605\n",
            "Epoch :  38 \t train_loss : 0.6520683169364929 \t test_loss : 1.1997883319854736\n",
            "Epoch :  39 \t train_loss : 0.6022626161575317 \t test_loss : 1.1817728281021118\n",
            "Epoch :  40 \t train_loss : 0.5267525315284729 \t test_loss : 1.1426290273666382\n",
            "Epoch :  41 \t train_loss : 0.4770432710647583 \t test_loss : 1.1125288009643555\n",
            "Epoch :  42 \t train_loss : 0.42429256439208984 \t test_loss : 1.0642660856246948\n",
            "Epoch :  43 \t train_loss : 0.38493865728378296 \t test_loss : 1.0252605676651\n",
            "Epoch :  44 \t train_loss : 0.3436375558376312 \t test_loss : 0.9794241189956665\n",
            "Epoch :  45 \t train_loss : 0.30967360734939575 \t test_loss : 0.9540055990219116\n",
            "Epoch :  46 \t train_loss : 0.28384214639663696 \t test_loss : 0.9530561566352844\n",
            "Epoch :  47 \t train_loss : 0.25297388434410095 \t test_loss : 0.9372352361679077\n",
            "Epoch :  48 \t train_loss : 0.23090316355228424 \t test_loss : 0.9148823022842407\n",
            "Epoch :  49 \t train_loss : 0.21113114058971405 \t test_loss : 0.8870223760604858\n",
            "Epoch :  50 \t train_loss : 0.18937383592128754 \t test_loss : 0.8601014018058777\n"
          ],
          "name": "stdout"
        }
      ]
    },
    {
      "cell_type": "code",
      "metadata": {
        "id": "TB-B9fR6-Mc8",
        "colab": {
          "base_uri": "https://localhost:8080/",
          "height": 265
        },
        "outputId": "6f2dc4a7-0070-4a73-da30-f2fbbf92409d"
      },
      "source": [
        "import matplotlib.pyplot as plt\n",
        "%matplotlib inline\n",
        "plt.plot(train_losses, label='Training loss')\n",
        "plt.plot(val_losses, label='Validation loss')\n",
        "plt.legend()\n",
        "plt.show()"
      ],
      "execution_count": 44,
      "outputs": [
        {
          "output_type": "display_data",
          "data": {
            "image/png": "[encoded data removed]",
            "text/plain": [
              "<Figure size 432x288 with 1 Axes>"
            ]
          },
          "metadata": {
            "tags": [],
            "needs_background": "light"
          }
        }
      ]
    },
    {
      "cell_type": "code",
      "metadata": {
        "id": "7vb4t1Uceo2A",
        "colab": {
          "base_uri": "https://localhost:8080/"
        },
        "outputId": "b4a86740-c706-4620-8df9-f710a446e790"
      },
      "source": [
        "best_model=torch.load(\"/content/best_model.pt\")\n",
        "best_model.eval()"
      ],
      "execution_count": 45,
      "outputs": [
        {
          "output_type": "execute_result",
          "data": {
            "text/plain": [
              "CNN_Net(\n",
              "  (conv1): Conv2d(1, 12, kernel_size=(5, 5), stride=(1, 1))\n",
              "  (a1): ReLU()\n",
              "  (pool1): MaxPool2d(kernel_size=2, stride=2, padding=0, dilation=1, ceil_mode=False)\n",
              "  (conv2): Conv2d(12, 24, kernel_size=(4, 4), stride=(2, 2))\n",
              "  (a2): ReLU()\n",
              "  (pool2): MaxPool2d(kernel_size=2, stride=2, padding=0, dilation=1, ceil_mode=False)\n",
              "  (conv3): Conv2d(24, 32, kernel_size=(3, 3), stride=(2, 2))\n",
              "  (a3): ReLU()\n",
              "  (pool3): MaxPool2d(kernel_size=2, stride=2, padding=0, dilation=1, ceil_mode=False)\n",
              "  (fc1): Linear(in_features=512, out_features=120, bias=True)\n",
              "  (fc2): Linear(in_features=120, out_features=84, bias=True)\n",
              "  (fc3): Linear(in_features=84, out_features=39, bias=True)\n",
              ")"
            ]
          },
          "metadata": {
            "tags": []
          },
          "execution_count": 45
        }
      ]
    },
    {
      "cell_type": "code",
      "metadata": {
        "id": "jaBkxzgeFtBN",
        "colab": {
          "base_uri": "https://localhost:8080/"
        },
        "outputId": "1c3bbafb-ec30-4df1-c98d-2b772c7b4bcf"
      },
      "source": [
        "x_test_new=Variable(x_test_cnn)\n",
        "y_pred_cnn=best_model(x_test_new.cuda())\n",
        "y_pred_cnn=y_pred_cnn.cpu().detach().numpy()\n",
        "   \n",
        "print(classification_report(y_test_cnn, np.argmax(y_pred_cnn,axis=1)))"
      ],
      "execution_count": 46,
      "outputs": [
        {
          "output_type": "stream",
          "text": [
            "              precision    recall  f1-score   support\n",
            "\n",
            "           0       0.77      0.62      0.69        16\n",
            "           1       1.00      0.84      0.91        25\n",
            "           2       0.83      0.94      0.88        16\n",
            "           3       0.79      0.92      0.85        12\n",
            "           4       0.89      0.89      0.89        18\n",
            "           5       0.91      0.87      0.89        23\n",
            "           6       0.71      0.88      0.79        17\n",
            "           7       0.86      0.52      0.65        23\n",
            "           8       0.72      1.00      0.84        13\n",
            "           9       1.00      0.87      0.93        15\n",
            "          10       0.87      0.87      0.87        15\n",
            "          11       0.84      0.73      0.78        22\n",
            "          12       0.86      1.00      0.92        18\n",
            "          14       0.74      0.93      0.82        15\n",
            "          15       0.85      0.79      0.81        14\n",
            "          16       0.75      0.86      0.80        14\n",
            "          17       0.87      0.87      0.87        15\n",
            "          18       0.87      0.81      0.84        16\n",
            "          19       0.88      0.88      0.88        17\n",
            "          20       0.87      0.81      0.84        16\n",
            "          21       0.82      1.00      0.90        23\n",
            "          22       0.87      1.00      0.93        13\n",
            "          23       1.00      0.88      0.94        17\n",
            "          24       0.71      0.62      0.67        16\n",
            "          25       0.94      1.00      0.97        17\n",
            "          26       0.86      0.92      0.89        13\n",
            "          27       1.00      0.82      0.90        17\n",
            "          28       0.94      0.94      0.94        18\n",
            "          29       1.00      0.88      0.94        17\n",
            "          30       0.75      1.00      0.86         6\n",
            "          31       0.74      0.82      0.78        17\n",
            "          32       0.55      0.63      0.59        19\n",
            "          33       0.82      0.78      0.80        18\n",
            "          34       0.69      0.92      0.79        12\n",
            "          35       1.00      0.53      0.70        15\n",
            "          36       0.85      0.79      0.81        14\n",
            "          37       0.57      0.57      0.57        14\n",
            "          38       0.77      0.83      0.80        12\n",
            "\n",
            "    accuracy                           0.83       618\n",
            "   macro avg       0.84      0.84      0.83       618\n",
            "weighted avg       0.84      0.83      0.83       618\n",
            "\n"
          ],
          "name": "stdout"
        }
      ]
    },
    {
      "cell_type": "code",
      "metadata": {
        "id": "EGeDg_FyGJhl"
      },
      "source": [
        ""
      ],
      "execution_count": 29,
      "outputs": []
    }
  ]
}